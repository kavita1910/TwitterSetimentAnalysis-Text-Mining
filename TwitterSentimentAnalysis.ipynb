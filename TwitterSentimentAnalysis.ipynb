{
 "cells": [
  {
   "cell_type": "code",
   "execution_count": 1,
   "metadata": {},
   "outputs": [],
   "source": [
    "# Import the libraries\n",
    "import tweepy\n",
    "from textblob import TextBlob\n",
    "from wordcloud import WordCloud\n",
    "import pandas as pd\n",
    "import numpy as np\n",
    "import re\n",
    "import matplotlib.pyplot as plt\n",
    "plt.style.use('fivethirtyeight')"
   ]
  },
  {
   "cell_type": "code",
   "execution_count": 2,
   "metadata": {},
   "outputs": [],
   "source": [
    "import csv\n",
    "\n",
    "consumer_key = \"WvBuG7r6Jot3bKKrguMNX6Oa7\"\n",
    "consumer_secret = \"c4BX6SqS7ul45BptocNrdrfyYcUfve5PPnSJ8FvdVlzCejEODF\"\n",
    "access_key = \"1338519670660288514-aZGqRzLYtVSpFZts7OaQH0Yz8hHEMt\"\n",
    "access_secret = \"E8lZ1Stxjy8A2CJrYUD0WWZcV1sfslLhubvGmMcI9Oxpo\""
   ]
  },
  {
   "cell_type": "code",
   "execution_count": 3,
   "metadata": {},
   "outputs": [],
   "source": [
    "# Create the authentication object\n",
    "authenticate = tweepy.OAuthHandler(consumer_key, consumer_secret) \n",
    "    \n",
    "# Set the access token and access token secret\n",
    "authenticate.set_access_token(access_key, access_secret) \n",
    "    \n",
    "# Creating the API object while passing in auth information\n",
    "api = tweepy.API(authenticate, wait_on_rate_limit = True)"
   ]
  },
  {
   "cell_type": "markdown",
   "metadata": {},
   "source": [
    "### Extract the data & Analyze\n",
    "When using extended mode, the text attribute of Status objects returned by tweepy. API methods is replaced by a full_text attribute, which contains the entire untruncated text of the Tweet."
   ]
  },
  {
   "cell_type": "code",
   "execution_count": 4,
   "metadata": {},
   "outputs": [
    {
     "name": "stdout",
     "output_type": "stream",
     "text": [
      "Show the 5 recent tweets:\n",
      "\n",
      "1) It’s great to see India’s leadership in scientific innovation and vaccine manufacturing capability as the world works to end the COVID-19 pandemic @PMOIndia https://t.co/Ds4f3tmrm3\n",
      "\n",
      "2) RT @lastmilehealth: The best emergency system is a strong primary health system—powered by community and frontline health workers. Now is t…\n",
      "\n",
      "3) What does Rashida Jones have on her shopping list? That’s just one of the many questions that didn’t make it into our podcast. You can listen to some of the big questions we did tackle here: https://t.co/RJzHRUPoik https://t.co/yh63b11RSW\n",
      "\n",
      "4) 2021 will be better than 2020. Here’s why: https://t.co/mYbpl5wwF1\n",
      "\n",
      "5) Standing up for science has never been more important. Congratulations to Dr. Anthony Fauci and Dr. Salim Abdool Karim on receiving this honor. https://t.co/XE2NArYcE3\n",
      "\n"
     ]
    }
   ],
   "source": [
    "# Extract 100 tweets from the twitter user\n",
    "posts = api.user_timeline(screen_name=\"BillGates\", count = 100, lang =\"en\", tweet_mode=\"extended\")\n",
    "\n",
    "#  Print the last 5 tweets\n",
    "print(\"Show the 5 recent tweets:\\n\")\n",
    "i=1\n",
    "for tweet in posts[:5]:\n",
    "    print(str(i) +') '+ tweet.full_text + '\\n')\n",
    "    i= i+1"
   ]
  },
  {
   "cell_type": "markdown",
   "metadata": {},
   "source": [
    "#### Create a DataFrame with a column called Tweets that’ll contain the posts from the Twitter user, and then show the first five rows."
   ]
  },
  {
   "cell_type": "code",
   "execution_count": 5,
   "metadata": {},
   "outputs": [],
   "source": [
    "df = pd.DataFrame([tweet.full_text for tweet in posts], columns=['Tweets'])"
   ]
  },
  {
   "cell_type": "code",
   "execution_count": 6,
   "metadata": {},
   "outputs": [
    {
     "data": {
      "text/html": [
       "<div>\n",
       "<style scoped>\n",
       "    .dataframe tbody tr th:only-of-type {\n",
       "        vertical-align: middle;\n",
       "    }\n",
       "\n",
       "    .dataframe tbody tr th {\n",
       "        vertical-align: top;\n",
       "    }\n",
       "\n",
       "    .dataframe thead th {\n",
       "        text-align: right;\n",
       "    }\n",
       "</style>\n",
       "<table border=\"1\" class=\"dataframe\">\n",
       "  <thead>\n",
       "    <tr style=\"text-align: right;\">\n",
       "      <th></th>\n",
       "      <th>Tweets</th>\n",
       "    </tr>\n",
       "  </thead>\n",
       "  <tbody>\n",
       "    <tr>\n",
       "      <th>0</th>\n",
       "      <td>It’s great to see India’s leadership in scient...</td>\n",
       "    </tr>\n",
       "    <tr>\n",
       "      <th>1</th>\n",
       "      <td>RT @lastmilehealth: The best emergency system ...</td>\n",
       "    </tr>\n",
       "    <tr>\n",
       "      <th>2</th>\n",
       "      <td>What does Rashida Jones have on her shopping l...</td>\n",
       "    </tr>\n",
       "    <tr>\n",
       "      <th>3</th>\n",
       "      <td>2021 will be better than 2020. Here’s why: htt...</td>\n",
       "    </tr>\n",
       "    <tr>\n",
       "      <th>4</th>\n",
       "      <td>Standing up for science has never been more im...</td>\n",
       "    </tr>\n",
       "  </tbody>\n",
       "</table>\n",
       "</div>"
      ],
      "text/plain": [
       "                                              Tweets\n",
       "0  It’s great to see India’s leadership in scient...\n",
       "1  RT @lastmilehealth: The best emergency system ...\n",
       "2  What does Rashida Jones have on her shopping l...\n",
       "3  2021 will be better than 2020. Here’s why: htt...\n",
       "4  Standing up for science has never been more im..."
      ]
     },
     "execution_count": 6,
     "metadata": {},
     "output_type": "execute_result"
    }
   ],
   "source": [
    "df.head()"
   ]
  },
  {
   "cell_type": "code",
   "execution_count": 7,
   "metadata": {},
   "outputs": [
    {
     "data": {
      "text/plain": [
       "(100, 1)"
      ]
     },
     "execution_count": 7,
     "metadata": {},
     "output_type": "execute_result"
    }
   ],
   "source": [
    "df.shape"
   ]
  },
  {
   "cell_type": "code",
   "execution_count": 8,
   "metadata": {},
   "outputs": [],
   "source": [
    "# Create a function to clean the tweets\n",
    "def clean(text):\n",
    "    text = re.sub('@[A-Za-z0–9]+', '', text) #Removing @mentions\n",
    "    text = re.sub('#', '', text) # Removing '#' hash tag\n",
    "    text = re.sub('RT[\\s]+', '', text) # Removing RT\n",
    "    text = re.sub('https?:\\/\\/\\S+', '', text) # Removing hyperlink\n",
    "    text = re.sub(':', '', text) # Removing ':' hash tag\n",
    "    \n",
    "    return text"
   ]
  },
  {
   "cell_type": "code",
   "execution_count": 9,
   "metadata": {},
   "outputs": [],
   "source": [
    "df['Tweets'] = df['Tweets'].apply(clean)"
   ]
  },
  {
   "cell_type": "code",
   "execution_count": 10,
   "metadata": {},
   "outputs": [
    {
     "data": {
      "text/html": [
       "<div>\n",
       "<style scoped>\n",
       "    .dataframe tbody tr th:only-of-type {\n",
       "        vertical-align: middle;\n",
       "    }\n",
       "\n",
       "    .dataframe tbody tr th {\n",
       "        vertical-align: top;\n",
       "    }\n",
       "\n",
       "    .dataframe thead th {\n",
       "        text-align: right;\n",
       "    }\n",
       "</style>\n",
       "<table border=\"1\" class=\"dataframe\">\n",
       "  <thead>\n",
       "    <tr style=\"text-align: right;\">\n",
       "      <th></th>\n",
       "      <th>Tweets</th>\n",
       "    </tr>\n",
       "  </thead>\n",
       "  <tbody>\n",
       "    <tr>\n",
       "      <th>0</th>\n",
       "      <td>It’s great to see India’s leadership in scient...</td>\n",
       "    </tr>\n",
       "    <tr>\n",
       "      <th>1</th>\n",
       "      <td>The best emergency system is a strong primary...</td>\n",
       "    </tr>\n",
       "    <tr>\n",
       "      <th>2</th>\n",
       "      <td>What does Rashida Jones have on her shopping l...</td>\n",
       "    </tr>\n",
       "    <tr>\n",
       "      <th>3</th>\n",
       "      <td>2021 will be better than 2020. Here’s why</td>\n",
       "    </tr>\n",
       "    <tr>\n",
       "      <th>4</th>\n",
       "      <td>Standing up for science has never been more im...</td>\n",
       "    </tr>\n",
       "    <tr>\n",
       "      <th>...</th>\n",
       "      <td>...</td>\n",
       "    </tr>\n",
       "    <tr>\n",
       "      <th>95</th>\n",
       "      <td>In his final words, John Lewis challenges all ...</td>\n",
       "    </tr>\n",
       "    <tr>\n",
       "      <th>96</th>\n",
       "      <td>The impacts of COVID-19 are driving worrying i...</td>\n",
       "    </tr>\n",
       "    <tr>\n",
       "      <th>97</th>\n",
       "      <td>The ’s support of  and  is instrumental to th...</td>\n",
       "    </tr>\n",
       "    <tr>\n",
       "      <th>98</th>\n",
       "      <td>In these challenging times, we can’t lose sigh...</td>\n",
       "    </tr>\n",
       "    <tr>\n",
       "      <th>99</th>\n",
       "      <td>Science and innovation will help us beat COVID...</td>\n",
       "    </tr>\n",
       "  </tbody>\n",
       "</table>\n",
       "<p>100 rows × 1 columns</p>\n",
       "</div>"
      ],
      "text/plain": [
       "                                               Tweets\n",
       "0   It’s great to see India’s leadership in scient...\n",
       "1    The best emergency system is a strong primary...\n",
       "2   What does Rashida Jones have on her shopping l...\n",
       "3          2021 will be better than 2020. Here’s why \n",
       "4   Standing up for science has never been more im...\n",
       "..                                                ...\n",
       "95  In his final words, John Lewis challenges all ...\n",
       "96  The impacts of COVID-19 are driving worrying i...\n",
       "97   The ’s support of  and  is instrumental to th...\n",
       "98  In these challenging times, we can’t lose sigh...\n",
       "99  Science and innovation will help us beat COVID...\n",
       "\n",
       "[100 rows x 1 columns]"
      ]
     },
     "execution_count": 10,
     "metadata": {},
     "output_type": "execute_result"
    }
   ],
   "source": [
    "df"
   ]
  },
  {
   "cell_type": "code",
   "execution_count": 11,
   "metadata": {},
   "outputs": [],
   "source": [
    "pd.set_option('display.max_colwidth', None)"
   ]
  },
  {
   "cell_type": "code",
   "execution_count": 12,
   "metadata": {},
   "outputs": [
    {
     "data": {
      "text/html": [
       "<div>\n",
       "<style scoped>\n",
       "    .dataframe tbody tr th:only-of-type {\n",
       "        vertical-align: middle;\n",
       "    }\n",
       "\n",
       "    .dataframe tbody tr th {\n",
       "        vertical-align: top;\n",
       "    }\n",
       "\n",
       "    .dataframe thead th {\n",
       "        text-align: right;\n",
       "    }\n",
       "</style>\n",
       "<table border=\"1\" class=\"dataframe\">\n",
       "  <thead>\n",
       "    <tr style=\"text-align: right;\">\n",
       "      <th></th>\n",
       "      <th>Tweets</th>\n",
       "    </tr>\n",
       "  </thead>\n",
       "  <tbody>\n",
       "    <tr>\n",
       "      <th>0</th>\n",
       "      <td>It’s great to see India’s leadership in scientific innovation and vaccine manufacturing capability as the world works to end the COVID-19 pandemic</td>\n",
       "    </tr>\n",
       "    <tr>\n",
       "      <th>1</th>\n",
       "      <td>The best emergency system is a strong primary health system—powered by community and frontline health workers. Now is t…</td>\n",
       "    </tr>\n",
       "    <tr>\n",
       "      <th>2</th>\n",
       "      <td>What does Rashida Jones have on her shopping list? That’s just one of the many questions that didn’t make it into our podcast. You can listen to some of the big questions we did tackle here</td>\n",
       "    </tr>\n",
       "    <tr>\n",
       "      <th>3</th>\n",
       "      <td>2021 will be better than 2020. Here’s why</td>\n",
       "    </tr>\n",
       "    <tr>\n",
       "      <th>4</th>\n",
       "      <td>Standing up for science has never been more important. Congratulations to Dr. Anthony Fauci and Dr. Salim Abdool Karim on receiving this honor.</td>\n",
       "    </tr>\n",
       "  </tbody>\n",
       "</table>\n",
       "</div>"
      ],
      "text/plain": [
       "                                                                                                                                                                                            Tweets\n",
       "0                                             It’s great to see India’s leadership in scientific innovation and vaccine manufacturing capability as the world works to end the COVID-19 pandemic  \n",
       "1                                                                         The best emergency system is a strong primary health system—powered by community and frontline health workers. Now is t…\n",
       "2  What does Rashida Jones have on her shopping list? That’s just one of the many questions that didn’t make it into our podcast. You can listen to some of the big questions we did tackle here  \n",
       "3                                                                                                                                                       2021 will be better than 2020. Here’s why \n",
       "4                                                 Standing up for science has never been more important. Congratulations to Dr. Anthony Fauci and Dr. Salim Abdool Karim on receiving this honor. "
      ]
     },
     "execution_count": 12,
     "metadata": {},
     "output_type": "execute_result"
    }
   ],
   "source": [
    "df.head()"
   ]
  },
  {
   "cell_type": "code",
   "execution_count": 13,
   "metadata": {},
   "outputs": [],
   "source": [
    "# Create a function to get the subjectivity\n",
    "def getSub(text):\n",
    "    return TextBlob(text).sentiment.subjectivity\n",
    "\n",
    "# Create a function to get the polarity\n",
    "def getpol(text):\n",
    "    return TextBlob(text).sentiment.polarity"
   ]
  },
  {
   "cell_type": "code",
   "execution_count": 14,
   "metadata": {},
   "outputs": [],
   "source": [
    "# Create two new columns for subjectivity and Polarity\n",
    "df['Subjectivity'] = df['Tweets'].apply(getSub)\n",
    "df['Polarity'] = df['Tweets'].apply(getpol)"
   ]
  },
  {
   "cell_type": "code",
   "execution_count": 15,
   "metadata": {},
   "outputs": [
    {
     "data": {
      "text/html": [
       "<div>\n",
       "<style scoped>\n",
       "    .dataframe tbody tr th:only-of-type {\n",
       "        vertical-align: middle;\n",
       "    }\n",
       "\n",
       "    .dataframe tbody tr th {\n",
       "        vertical-align: top;\n",
       "    }\n",
       "\n",
       "    .dataframe thead th {\n",
       "        text-align: right;\n",
       "    }\n",
       "</style>\n",
       "<table border=\"1\" class=\"dataframe\">\n",
       "  <thead>\n",
       "    <tr style=\"text-align: right;\">\n",
       "      <th></th>\n",
       "      <th>Tweets</th>\n",
       "      <th>Subjectivity</th>\n",
       "      <th>Polarity</th>\n",
       "    </tr>\n",
       "  </thead>\n",
       "  <tbody>\n",
       "    <tr>\n",
       "      <th>0</th>\n",
       "      <td>It’s great to see India’s leadership in scientific innovation and vaccine manufacturing capability as the world works to end the COVID-19 pandemic</td>\n",
       "      <td>0.750000</td>\n",
       "      <td>0.800000</td>\n",
       "    </tr>\n",
       "    <tr>\n",
       "      <th>1</th>\n",
       "      <td>The best emergency system is a strong primary health system—powered by community and frontline health workers. Now is t…</td>\n",
       "      <td>0.511111</td>\n",
       "      <td>0.611111</td>\n",
       "    </tr>\n",
       "    <tr>\n",
       "      <th>2</th>\n",
       "      <td>What does Rashida Jones have on her shopping list? That’s just one of the many questions that didn’t make it into our podcast. You can listen to some of the big questions we did tackle here</td>\n",
       "      <td>0.300000</td>\n",
       "      <td>0.250000</td>\n",
       "    </tr>\n",
       "    <tr>\n",
       "      <th>3</th>\n",
       "      <td>2021 will be better than 2020. Here’s why</td>\n",
       "      <td>0.500000</td>\n",
       "      <td>0.500000</td>\n",
       "    </tr>\n",
       "    <tr>\n",
       "      <th>4</th>\n",
       "      <td>Standing up for science has never been more important. Congratulations to Dr. Anthony Fauci and Dr. Salim Abdool Karim on receiving this honor.</td>\n",
       "      <td>0.750000</td>\n",
       "      <td>0.450000</td>\n",
       "    </tr>\n",
       "    <tr>\n",
       "      <th>...</th>\n",
       "      <td>...</td>\n",
       "      <td>...</td>\n",
       "      <td>...</td>\n",
       "    </tr>\n",
       "    <tr>\n",
       "      <th>95</th>\n",
       "      <td>In his final words, John Lewis challenges all of us to continue to stand up for what we truly believe. “Together, you can redeem the soul of our nation.” \\n\\n</td>\n",
       "      <td>1.000000</td>\n",
       "      <td>0.000000</td>\n",
       "    </tr>\n",
       "    <tr>\n",
       "      <th>96</th>\n",
       "      <td>The impacts of COVID-19 are driving worrying increases in malnutrition and health outcomes. However, there are clear actions that can be taken in both the near- and long-term.</td>\n",
       "      <td>0.391667</td>\n",
       "      <td>0.100000</td>\n",
       "    </tr>\n",
       "    <tr>\n",
       "      <th>97</th>\n",
       "      <td>The ’s support of  and  is instrumental to the research and development of the COVID19 vacci…</td>\n",
       "      <td>0.000000</td>\n",
       "      <td>0.000000</td>\n",
       "    </tr>\n",
       "    <tr>\n",
       "      <th>98</th>\n",
       "      <td>In these challenging times, we can’t lose sight of the importance of combatting climate change. I’m excited to hear about how companies like  are finding a way to play a role.</td>\n",
       "      <td>0.875000</td>\n",
       "      <td>0.437500</td>\n",
       "    </tr>\n",
       "    <tr>\n",
       "      <th>99</th>\n",
       "      <td>Science and innovation will help us beat COVID-19. Dr. Fauci explains why.</td>\n",
       "      <td>0.000000</td>\n",
       "      <td>0.000000</td>\n",
       "    </tr>\n",
       "  </tbody>\n",
       "</table>\n",
       "<p>100 rows × 3 columns</p>\n",
       "</div>"
      ],
      "text/plain": [
       "                                                                                                                                                                                             Tweets  \\\n",
       "0                                              It’s great to see India’s leadership in scientific innovation and vaccine manufacturing capability as the world works to end the COVID-19 pandemic     \n",
       "1                                                                          The best emergency system is a strong primary health system—powered by community and frontline health workers. Now is t…   \n",
       "2   What does Rashida Jones have on her shopping list? That’s just one of the many questions that didn’t make it into our podcast. You can listen to some of the big questions we did tackle here     \n",
       "3                                                                                                                                                        2021 will be better than 2020. Here’s why    \n",
       "4                                                  Standing up for science has never been more important. Congratulations to Dr. Anthony Fauci and Dr. Salim Abdool Karim on receiving this honor.    \n",
       "..                                                                                                                                                                                              ...   \n",
       "95                                   In his final words, John Lewis challenges all of us to continue to stand up for what we truly believe. “Together, you can redeem the soul of our nation.” \\n\\n   \n",
       "96                 The impacts of COVID-19 are driving worrying increases in malnutrition and health outcomes. However, there are clear actions that can be taken in both the near- and long-term.    \n",
       "97                                                                                                    The ’s support of  and  is instrumental to the research and development of the COVID19 vacci…   \n",
       "98                 In these challenging times, we can’t lose sight of the importance of combatting climate change. I’m excited to hear about how companies like  are finding a way to play a role.    \n",
       "99                                                                                                                      Science and innovation will help us beat COVID-19. Dr. Fauci explains why.    \n",
       "\n",
       "    Subjectivity  Polarity  \n",
       "0       0.750000  0.800000  \n",
       "1       0.511111  0.611111  \n",
       "2       0.300000  0.250000  \n",
       "3       0.500000  0.500000  \n",
       "4       0.750000  0.450000  \n",
       "..           ...       ...  \n",
       "95      1.000000  0.000000  \n",
       "96      0.391667  0.100000  \n",
       "97      0.000000  0.000000  \n",
       "98      0.875000  0.437500  \n",
       "99      0.000000  0.000000  \n",
       "\n",
       "[100 rows x 3 columns]"
      ]
     },
     "execution_count": 15,
     "metadata": {},
     "output_type": "execute_result"
    }
   ],
   "source": [
    "df"
   ]
  },
  {
   "cell_type": "markdown",
   "metadata": {},
   "source": [
    "#### A word cloud (also known as text clouds or tag clouds) is a visualization, the more a specific word appears in the text, the bigger and bolder it appears in the word cloud."
   ]
  },
  {
   "cell_type": "code",
   "execution_count": 16,
   "metadata": {},
   "outputs": [],
   "source": [
    "# Word Cloud Visualization\n",
    "allwords = ' '.join([twts for twts in df['Tweets']])\n",
    "wordcloud = WordCloud(width=500, height=300, random_state=21, max_font_size=110).generate(allwords)"
   ]
  },
  {
   "cell_type": "code",
   "execution_count": 17,
   "metadata": {},
   "outputs": [
    {
     "data": {
      "image/png": "[encoded data removed]",
      "text/plain": [
       "<Figure size 432x288 with 1 Axes>"
      ]
     },
     "metadata": {},
     "output_type": "display_data"
    }
   ],
   "source": [
    "plt.imshow(wordcloud, interpolation=\"bilinear\")\n",
    "plt.axis('off')\n",
    "plt.show()"
   ]
  },
  {
   "cell_type": "markdown",
   "metadata": {},
   "source": [
    "#### looks like the word “COVID” appears a lot in Bill Gates past 100 tweets."
   ]
  },
  {
   "cell_type": "code",
   "execution_count": 18,
   "metadata": {},
   "outputs": [],
   "source": [
    "def isNotNull(value):\n",
    "    return value is not None and len(value)>0"
   ]
  },
  {
   "cell_type": "code",
   "execution_count": 19,
   "metadata": {},
   "outputs": [],
   "source": [
    "dict_pos = []\n",
    "dict_neg = []\n",
    "f = open('negative-words.txt','r')\n",
    "for line in f:\n",
    "    t= line.strip().lower();\n",
    "    if (isNotNull(t)):\n",
    "        dict_neg.append(t)\n",
    "f.close()\n",
    "\n",
    "f = open('positive-words.txt','r')\n",
    "for line in f:\n",
    "    t = line.strip().lower();\n",
    "    if (isNotNull(t)):\n",
    "        dict_pos.append(t)\n",
    "f.close()"
   ]
  },
  {
   "cell_type": "code",
   "execution_count": 21,
   "metadata": {},
   "outputs": [
    {
     "name": "stderr",
     "output_type": "stream",
     "text": [
      "[nltk_data] Downloading package treebank to\n",
      "[nltk_data]     C:\\Users\\gkhat\\AppData\\Roaming\\nltk_data...\n",
      "[nltk_data]   Unzipping corpora\\treebank.zip.\n"
     ]
    },
    {
     "data": {
      "text/plain": [
       "True"
      ]
     },
     "execution_count": 21,
     "metadata": {},
     "output_type": "execute_result"
    }
   ],
   "source": [
    "import nltk\n",
    "nltk.download('treebank')"
   ]
  },
  {
   "cell_type": "code",
   "execution_count": 27,
   "metadata": {},
   "outputs": [],
   "source": [
    "from nltk.tokenize import TreebankWordTokenizer\n",
    "tokenizer = TreebankWordTokenizer()\n",
    "\n",
    "def sentiment(sentence):\n",
    "  senti=0\n",
    "  words = [word.lower() for word in tokenizer.tokenize(sentence)]\n",
    "  for word in words:\n",
    "    if word in dict_pos:\n",
    "      senti += 1\n",
    "    elif word in dict_neg:\n",
    "      senti -= 1\n",
    "  return senti"
   ]
  },
  {
   "cell_type": "code",
   "execution_count": 28,
   "metadata": {},
   "outputs": [],
   "source": [
    "df['sentiment']=df['Tweets'].apply(sentiment)"
   ]
  },
  {
   "cell_type": "code",
   "execution_count": 29,
   "metadata": {},
   "outputs": [
    {
     "data": {
      "text/html": [
       "<div>\n",
       "<style scoped>\n",
       "    .dataframe tbody tr th:only-of-type {\n",
       "        vertical-align: middle;\n",
       "    }\n",
       "\n",
       "    .dataframe tbody tr th {\n",
       "        vertical-align: top;\n",
       "    }\n",
       "\n",
       "    .dataframe thead th {\n",
       "        text-align: right;\n",
       "    }\n",
       "</style>\n",
       "<table border=\"1\" class=\"dataframe\">\n",
       "  <thead>\n",
       "    <tr style=\"text-align: right;\">\n",
       "      <th></th>\n",
       "      <th>Tweets</th>\n",
       "      <th>Subjectivity</th>\n",
       "      <th>Polarity</th>\n",
       "      <th>sentiment</th>\n",
       "    </tr>\n",
       "  </thead>\n",
       "  <tbody>\n",
       "    <tr>\n",
       "      <th>0</th>\n",
       "      <td>It’s great to see India’s leadership in scientific innovation and vaccine manufacturing capability as the world works to end the COVID-19 pandemic</td>\n",
       "      <td>0.750000</td>\n",
       "      <td>0.800000</td>\n",
       "      <td>4</td>\n",
       "    </tr>\n",
       "    <tr>\n",
       "      <th>1</th>\n",
       "      <td>The best emergency system is a strong primary health system—powered by community and frontline health workers. Now is t…</td>\n",
       "      <td>0.511111</td>\n",
       "      <td>0.611111</td>\n",
       "      <td>1</td>\n",
       "    </tr>\n",
       "    <tr>\n",
       "      <th>2</th>\n",
       "      <td>What does Rashida Jones have on her shopping list? That’s just one of the many questions that didn’t make it into our podcast. You can listen to some of the big questions we did tackle here</td>\n",
       "      <td>0.300000</td>\n",
       "      <td>0.250000</td>\n",
       "      <td>0</td>\n",
       "    </tr>\n",
       "    <tr>\n",
       "      <th>3</th>\n",
       "      <td>2021 will be better than 2020. Here’s why</td>\n",
       "      <td>0.500000</td>\n",
       "      <td>0.500000</td>\n",
       "      <td>1</td>\n",
       "    </tr>\n",
       "    <tr>\n",
       "      <th>4</th>\n",
       "      <td>Standing up for science has never been more important. Congratulations to Dr. Anthony Fauci and Dr. Salim Abdool Karim on receiving this honor.</td>\n",
       "      <td>0.750000</td>\n",
       "      <td>0.450000</td>\n",
       "      <td>2</td>\n",
       "    </tr>\n",
       "  </tbody>\n",
       "</table>\n",
       "</div>"
      ],
      "text/plain": [
       "                                                                                                                                                                                            Tweets  \\\n",
       "0                                             It’s great to see India’s leadership in scientific innovation and vaccine manufacturing capability as the world works to end the COVID-19 pandemic     \n",
       "1                                                                         The best emergency system is a strong primary health system—powered by community and frontline health workers. Now is t…   \n",
       "2  What does Rashida Jones have on her shopping list? That’s just one of the many questions that didn’t make it into our podcast. You can listen to some of the big questions we did tackle here     \n",
       "3                                                                                                                                                       2021 will be better than 2020. Here’s why    \n",
       "4                                                 Standing up for science has never been more important. Congratulations to Dr. Anthony Fauci and Dr. Salim Abdool Karim on receiving this honor.    \n",
       "\n",
       "   Subjectivity  Polarity  sentiment  \n",
       "0      0.750000  0.800000          4  \n",
       "1      0.511111  0.611111          1  \n",
       "2      0.300000  0.250000          0  \n",
       "3      0.500000  0.500000          1  \n",
       "4      0.750000  0.450000          2  "
      ]
     },
     "execution_count": 29,
     "metadata": {},
     "output_type": "execute_result"
    }
   ],
   "source": [
    "df.head()"
   ]
  },
  {
   "cell_type": "code",
   "execution_count": 31,
   "metadata": {},
   "outputs": [
    {
     "data": {
      "text/plain": [
       "array([ 4,  1,  0,  2,  3, -2, -3, -1,  5,  6], dtype=int64)"
      ]
     },
     "execution_count": 31,
     "metadata": {},
     "output_type": "execute_result"
    }
   ],
   "source": [
    "df.sentiment.unique()"
   ]
  },
  {
   "cell_type": "code",
   "execution_count": 36,
   "metadata": {},
   "outputs": [
    {
     "data": {
      "text/html": [
       "<div>\n",
       "<style scoped>\n",
       "    .dataframe tbody tr th:only-of-type {\n",
       "        vertical-align: middle;\n",
       "    }\n",
       "\n",
       "    .dataframe tbody tr th {\n",
       "        vertical-align: top;\n",
       "    }\n",
       "\n",
       "    .dataframe thead th {\n",
       "        text-align: right;\n",
       "    }\n",
       "</style>\n",
       "<table border=\"1\" class=\"dataframe\">\n",
       "  <thead>\n",
       "    <tr style=\"text-align: right;\">\n",
       "      <th></th>\n",
       "      <th>Tweets</th>\n",
       "      <th>Subjectivity</th>\n",
       "      <th>Polarity</th>\n",
       "      <th>sentiment</th>\n",
       "    </tr>\n",
       "  </thead>\n",
       "  <tbody>\n",
       "    <tr>\n",
       "      <th>0</th>\n",
       "      <td>It’s great to see India’s leadership in scientific innovation and vaccine manufacturing capability as the world works to end the COVID-19 pandemic</td>\n",
       "      <td>0.750000</td>\n",
       "      <td>0.800000</td>\n",
       "      <td>4</td>\n",
       "    </tr>\n",
       "    <tr>\n",
       "      <th>1</th>\n",
       "      <td>The best emergency system is a strong primary health system—powered by community and frontline health workers. Now is t…</td>\n",
       "      <td>0.511111</td>\n",
       "      <td>0.611111</td>\n",
       "      <td>1</td>\n",
       "    </tr>\n",
       "    <tr>\n",
       "      <th>3</th>\n",
       "      <td>2021 will be better than 2020. Here’s why</td>\n",
       "      <td>0.500000</td>\n",
       "      <td>0.500000</td>\n",
       "      <td>1</td>\n",
       "    </tr>\n",
       "    <tr>\n",
       "      <th>6</th>\n",
       "      <td>This book has nothing to do with viruses or pandemics. But it is surprisingly relevant for these times.  provides a brilliant and gripping account of another era of widespread anxiety the years 1940 and 1941.</td>\n",
       "      <td>0.966667</td>\n",
       "      <td>0.600000</td>\n",
       "      <td>0</td>\n",
       "    </tr>\n",
       "    <tr>\n",
       "      <th>10</th>\n",
       "      <td>The season finale of our podcast features two incredible people who are using their positions as artists to change the world for the better.</td>\n",
       "      <td>0.700000</td>\n",
       "      <td>0.700000</td>\n",
       "      <td>2</td>\n",
       "    </tr>\n",
       "    <tr>\n",
       "      <th>12</th>\n",
       "      <td>Thanks for the great conversation, Carlos.</td>\n",
       "      <td>0.475000</td>\n",
       "      <td>0.500000</td>\n",
       "      <td>1</td>\n",
       "    </tr>\n",
       "    <tr>\n",
       "      <th>15</th>\n",
       "      <td>Here are five books that I’d recommend as we wrap up 2020. I hope you find something that helps you—or the book lover in your life—finish the year on a good note.</td>\n",
       "      <td>0.600000</td>\n",
       "      <td>0.700000</td>\n",
       "      <td>3</td>\n",
       "    </tr>\n",
       "    <tr>\n",
       "      <th>23</th>\n",
       "      <td>I’m inspired by Quarraisha Abdool Karim and . They are two of the most respected HIV/AIDS researchers in the world. And now they are helping guide the COVID-19 response in South Africa and around the globe.  WorldAIDSDay</td>\n",
       "      <td>0.500000</td>\n",
       "      <td>0.500000</td>\n",
       "      <td>1</td>\n",
       "    </tr>\n",
       "    <tr>\n",
       "      <th>24</th>\n",
       "      <td>My parents taught me to leave the world better than I found it. \\n\\nSo many people across the country believe in giving bac…</td>\n",
       "      <td>0.500000</td>\n",
       "      <td>0.500000</td>\n",
       "      <td>1</td>\n",
       "    </tr>\n",
       "    <tr>\n",
       "      <th>30</th>\n",
       "      <td>You can listen to a bonus clip that didn’t make it into our latest episode here</td>\n",
       "      <td>0.900000</td>\n",
       "      <td>0.500000</td>\n",
       "      <td>1</td>\n",
       "    </tr>\n",
       "    <tr>\n",
       "      <th>34</th>\n",
       "      <td>More than 7 million community health workers serve their neighbors around the world, improving access to primary healthcare for their communities. Now they’re doing heroic work to respond to the pandemic.</td>\n",
       "      <td>0.633333</td>\n",
       "      <td>0.533333</td>\n",
       "      <td>3</td>\n",
       "    </tr>\n",
       "    <tr>\n",
       "      <th>35</th>\n",
       "      <td>No one is safe from COVID-19 until everyone is safe. We started the foundation because we believe every person deserves t…</td>\n",
       "      <td>0.500000</td>\n",
       "      <td>0.500000</td>\n",
       "      <td>1</td>\n",
       "    </tr>\n",
       "    <tr>\n",
       "      <th>65</th>\n",
       "      <td>These heroes represent the best of who we can be. Their efforts to solve the world’s challenges demonstrate our values as a society and they serve as powerful examples of how to make a positive difference in the world.</td>\n",
       "      <td>0.615152</td>\n",
       "      <td>0.509091</td>\n",
       "      <td>3</td>\n",
       "    </tr>\n",
       "    <tr>\n",
       "      <th>66</th>\n",
       "      <td>Some countries responded successfully to the pandemic – and more broadly, some are much more successful in protecting t…</td>\n",
       "      <td>0.642500</td>\n",
       "      <td>0.512500</td>\n",
       "      <td>2</td>\n",
       "    </tr>\n",
       "    <tr>\n",
       "      <th>70</th>\n",
       "      <td>Happy 90th birthday, Warren!</td>\n",
       "      <td>1.000000</td>\n",
       "      <td>1.000000</td>\n",
       "      <td>1</td>\n",
       "    </tr>\n",
       "    <tr>\n",
       "      <th>89</th>\n",
       "      <td>I always look forward to meeting Washington’s Teacher of the Year. This year’s recipient, Amy Campbell (_MrsCampbell), is a remarkable advocate for her students, and I loved learning about her approach to teaching special ed.</td>\n",
       "      <td>0.707143</td>\n",
       "      <td>0.602381</td>\n",
       "      <td>3</td>\n",
       "    </tr>\n",
       "  </tbody>\n",
       "</table>\n",
       "</div>"
      ],
      "text/plain": [
       "                                                                                                                                                                                                                                Tweets  \\\n",
       "0                                                                                 It’s great to see India’s leadership in scientific innovation and vaccine manufacturing capability as the world works to end the COVID-19 pandemic     \n",
       "1                                                                                                             The best emergency system is a strong primary health system—powered by community and frontline health workers. Now is t…   \n",
       "3                                                                                                                                                                                           2021 will be better than 2020. Here’s why    \n",
       "6                    This book has nothing to do with viruses or pandemics. But it is surprisingly relevant for these times.  provides a brilliant and gripping account of another era of widespread anxiety the years 1940 and 1941.    \n",
       "10                                                                                       The season finale of our podcast features two incredible people who are using their positions as artists to change the world for the better.    \n",
       "12                                                                                                                                                                                         Thanks for the great conversation, Carlos.    \n",
       "15                                                                 Here are five books that I’d recommend as we wrap up 2020. I hope you find something that helps you—or the book lover in your life—finish the year on a good note.    \n",
       "23        I’m inspired by Quarraisha Abdool Karim and . They are two of the most respected HIV/AIDS researchers in the world. And now they are helping guide the COVID-19 response in South Africa and around the globe.  WorldAIDSDay   \n",
       "24                                                                                                        My parents taught me to leave the world better than I found it. \\n\\nSo many people across the country believe in giving bac…   \n",
       "30                                                                                                                                                   You can listen to a bonus clip that didn’t make it into our latest episode here     \n",
       "34                       More than 7 million community health workers serve their neighbors around the world, improving access to primary healthcare for their communities. Now they’re doing heroic work to respond to the pandemic.    \n",
       "35                                                                                                          No one is safe from COVID-19 until everyone is safe. We started the foundation because we believe every person deserves t…   \n",
       "65         These heroes represent the best of who we can be. Their efforts to solve the world’s challenges demonstrate our values as a society and they serve as powerful examples of how to make a positive difference in the world.    \n",
       "66                                                                                                            Some countries responded successfully to the pandemic – and more broadly, some are much more successful in protecting t…   \n",
       "70                                                                                                                                                                                                       Happy 90th birthday, Warren!    \n",
       "89  I always look forward to meeting Washington’s Teacher of the Year. This year’s recipient, Amy Campbell (_MrsCampbell), is a remarkable advocate for her students, and I loved learning about her approach to teaching special ed.    \n",
       "\n",
       "    Subjectivity  Polarity  sentiment  \n",
       "0       0.750000  0.800000          4  \n",
       "1       0.511111  0.611111          1  \n",
       "3       0.500000  0.500000          1  \n",
       "6       0.966667  0.600000          0  \n",
       "10      0.700000  0.700000          2  \n",
       "12      0.475000  0.500000          1  \n",
       "15      0.600000  0.700000          3  \n",
       "23      0.500000  0.500000          1  \n",
       "24      0.500000  0.500000          1  \n",
       "30      0.900000  0.500000          1  \n",
       "34      0.633333  0.533333          3  \n",
       "35      0.500000  0.500000          1  \n",
       "65      0.615152  0.509091          3  \n",
       "66      0.642500  0.512500          2  \n",
       "70      1.000000  1.000000          1  \n",
       "89      0.707143  0.602381          3  "
      ]
     },
     "execution_count": 36,
     "metadata": {},
     "output_type": "execute_result"
    }
   ],
   "source": [
    "df.loc[df['Polarity']>=0.5]"
   ]
  },
  {
   "cell_type": "code",
   "execution_count": null,
   "metadata": {},
   "outputs": [],
   "source": []
  }
 ],
 "metadata": {
  "kernelspec": {
   "display_name": "Python 3",
   "language": "python",
   "name": "python3"
  },
  "language_info": {
   "codemirror_mode": {
    "name": "ipython",
    "version": 3
   },
   "file_extension": ".py",
   "mimetype": "text/x-python",
   "name": "python",
   "nbconvert_exporter": "python",
   "pygments_lexer": "ipython3",
   "version": "3.8.3"
  }
 },
 "nbformat": 4,
 "nbformat_minor": 4
}
